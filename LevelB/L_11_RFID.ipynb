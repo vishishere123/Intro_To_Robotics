{
 "cells": [
  {
   "cell_type": "markdown",
   "metadata": {},
   "source": [
    "# RFID\n",
    "\n",
    "RFID stands for Radio Frequency Identification.  This technology is based on the principle that radio waves can be used to generate electrical power.\n",
    "\n",
    "\n",
    "A RFID system consists of a reader and a tag/ card. The reader transmits and receives radio waves of a certain frequency. It also has a certain circuitry to decode the data received from the tag. The reader is externally powered.\n",
    "\n",
    "The tag, on the other hand, has no power source, generally.  What it does have are the following:\n",
    "\n",
    "\n",
    "- It contains an antenna to receive the radio waves of a certain frequency. \n",
    "\n",
    "- There is special circuitry inside the tag which converts the radio waves to DC power. \n",
    "\n",
    "- There is some memory inside the tag which contains relevant data. \n",
    "\n",
    "- There is a transmitter which uses the DC power generated from the radio waves to send the data from the memory through radio waves to be intercepted and read by the reader.\n",
    "\n"
   ]
  },
  {
   "cell_type": "markdown",
   "metadata": {},
   "source": [
    "RFID technology is used in:\n",
    "\n",
    "- Toll Collection.\n",
    "\n",
    "- Sale and purchase of consumer goods.\n",
    "\n",
    "- Attendance.\n",
    "\n",
    "- Lock and key for offices.\n",
    "\n"
   ]
  },
  {
   "cell_type": "markdown",
   "metadata": {},
   "source": [
    "## RFID for access control\n",
    "\n",
    "As mentioned in the last point, RFID is very commonly used as 'lock and key' for offices. This is to say RFID is for control accesing to important locations. In such cases, apart from the reader and the tag, there is a third component, a computer, which is centrally connected to all the readers, and has information/instructions for all the tags. \n",
    "\n",
    "As soon as the reader receives the information from the tag, it sends the information to the central access control system. The central access control system, on receiving the data about the tag from the reader, will then decide about what action is to be taken for that tag.\n",
    "\n",
    "\n",
    "The key advantage of this technique is that it is possibly to restrict or allow access to different tags by changing the alogrithm centrally in the computer itself."
   ]
  },
  {
   "cell_type": "markdown",
   "metadata": {},
   "source": [
    "## Security Concerns for RFID\n",
    "\n",
    "A RFID card/tag can be duplicated like a physical key, but only much easily. In order to duplicate a RFID card, all you need to do is to read the card (from a distance), and then write the same information on some other card. Then the duplicate card will have the same information as the original card, and therefore can be used to unlock the same doors.\n",
    "\n",
    "\n",
    "This is easier because you don't require a physical access to the key in order to read it. You can read it from a distance itself, as opposed to copying a physical key. However, on the flip side, every card does not work with every reader, and the card and the reader must be compatible (should work on the same frequency)to ensure this trick work.\n",
    "\n"
   ]
  },
  {
   "cell_type": "code",
   "execution_count": null,
   "metadata": {},
   "outputs": [],
   "source": []
  }
 ],
 "metadata": {
  "kernelspec": {
   "display_name": "Python 3",
   "language": "python",
   "name": "python3"
  },
  "language_info": {
   "codemirror_mode": {
    "name": "ipython",
    "version": 3
   },
   "file_extension": ".py",
   "mimetype": "text/x-python",
   "name": "python",
   "nbconvert_exporter": "python",
   "pygments_lexer": "ipython3",
   "version": "3.7.7"
  }
 },
 "nbformat": 4,
 "nbformat_minor": 4
}
