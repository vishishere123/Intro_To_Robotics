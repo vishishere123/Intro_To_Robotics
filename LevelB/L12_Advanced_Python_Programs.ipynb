{
 "cells": [
  {
   "cell_type": "markdown",
   "metadata": {},
   "source": [
    "# Advanced List Commands\n",
    "\n",
    "\n",
    "1. Create a list from a string:\n",
    "\n",
    "Use 'split' command with a delimiter."
   ]
  },
  {
   "cell_type": "code",
   "execution_count": 2,
   "metadata": {},
   "outputs": [
    {
     "name": "stdout",
     "output_type": "stream",
     "text": [
      "['12', '23', '34', '56', '78', '91']\n"
     ]
    }
   ],
   "source": [
    "a1  = '12 23 34 56 78 91'\n",
    "b1 = a1.split()\n",
    "print(b1)"
   ]
  },
  {
   "cell_type": "markdown",
   "metadata": {},
   "source": [
    "The markdown may not only be 'space'. It may also be a comma."
   ]
  },
  {
   "cell_type": "code",
   "execution_count": 11,
   "metadata": {},
   "outputs": [
    {
     "name": "stdout",
     "output_type": "stream",
     "text": [
      "['12', '23', '34', '56', '78', '91']\n",
      "<class 'str'>\n",
      "<class 'list'>\n"
     ]
    }
   ],
   "source": [
    "a1 = '12,23,34,56,78,91'\n",
    "b1 = a1.split(',')\n",
    "print(b1)\n",
    "print(type(a1))\n",
    "print(type(b1))"
   ]
  },
  {
   "cell_type": "markdown",
   "metadata": {},
   "source": [
    "2. Find the position of an element in the list\n"
   ]
  },
  {
   "cell_type": "code",
   "execution_count": 6,
   "metadata": {},
   "outputs": [
    {
     "name": "stdout",
     "output_type": "stream",
     "text": [
      "2\n"
     ]
    }
   ],
   "source": [
    "my_list = [12, 23, 34, 56, 78, 81]\n",
    "\n",
    "print(my_list.index(34))"
   ]
  },
  {
   "cell_type": "markdown",
   "metadata": {},
   "source": [
    "- If the element occurs more than once in the list, then the command returns the position of the first value encountered from the left.\n",
    "\n",
    "-  If the element does not occur in the list, then the Python program will generate an error."
   ]
  },
  {
   "cell_type": "markdown",
   "metadata": {},
   "source": [
    "3. Find if the element occurs in the list or not:"
   ]
  },
  {
   "cell_type": "markdown",
   "metadata": {},
   "source": [
    "Use the 'in' operator with the 'if' command."
   ]
  },
  {
   "cell_type": "code",
   "execution_count": 7,
   "metadata": {},
   "outputs": [
    {
     "name": "stdout",
     "output_type": "stream",
     "text": [
      "2\n"
     ]
    }
   ],
   "source": [
    "my_list = [12,23,34,56,78,91]\n",
    "if 34 in my_list:\n",
    "    print(my_list.index(34))\n",
    "else:\n",
    "    print(\"The element does not exist in the list\")"
   ]
  },
  {
   "cell_type": "code",
   "execution_count": 8,
   "metadata": {},
   "outputs": [
    {
     "name": "stdout",
     "output_type": "stream",
     "text": [
      "The element does not exist in the list\n"
     ]
    }
   ],
   "source": [
    "my_list = [12,23,26,56,78,91]\n",
    "if 34 in my_list:\n",
    "    print(my_list.index(34))\n",
    "else:\n",
    "    print(\"The element does not exist in the list\")"
   ]
  },
  {
   "cell_type": "markdown",
   "metadata": {},
   "source": [
    "4. Length of a list:"
   ]
  },
  {
   "cell_type": "code",
   "execution_count": 12,
   "metadata": {},
   "outputs": [
    {
     "name": "stdout",
     "output_type": "stream",
     "text": [
      "7\n"
     ]
    }
   ],
   "source": [
    "list1 = [12,24,35,56,68,91,32]\n",
    "print(len(list1))"
   ]
  },
  {
   "cell_type": "markdown",
   "metadata": {},
   "source": [
    "5. Adding elements to a list:\n",
    "\n",
    "There are two methods to use to add elements to a list:\n",
    "\n",
    "- Append: This method adds elements to a list. The whole of the second list is added as a single element at the end of the list. The lenght of the first list increases by one.\n",
    "\n",
    "- Extend: This method adds elements to a list one by one. Each element of the second list (or other iterable) is added one by one to the first list."
   ]
  },
  {
   "cell_type": "code",
   "execution_count": 13,
   "metadata": {},
   "outputs": [
    {
     "name": "stdout",
     "output_type": "stream",
     "text": [
      "[1, 2, 3, [5, 6]]\n"
     ]
    }
   ],
   "source": [
    "my_list = [1,2,3]\n",
    "second_list = [5,6]\n",
    "my_list.append(second_list)\n",
    "print(my_list)"
   ]
  },
  {
   "cell_type": "code",
   "execution_count": 14,
   "metadata": {},
   "outputs": [
    {
     "name": "stdout",
     "output_type": "stream",
     "text": [
      "[1, 2, 3, 5, 6]\n"
     ]
    }
   ],
   "source": [
    "my_list = [1,2,3]\n",
    "second_list = [5,6]\n",
    "my_list.extend(second_list)\n",
    "print(my_list)"
   ]
  },
  {
   "cell_type": "markdown",
   "metadata": {},
   "source": [
    "6. Removing items from a list:\n",
    "\n",
    "pop is an inbuilt function in Python, that removes and *returns* the last item from the list, or the item with the given index.\n",
    "\n",
    "If the given index is not present in the list, then an index error is raised.\n",
    "\n",
    "The list itself is changed.\n",
    "\n"
   ]
  },
  {
   "cell_type": "code",
   "execution_count": 15,
   "metadata": {},
   "outputs": [
    {
     "name": "stdout",
     "output_type": "stream",
     "text": [
      "92\n",
      "[78, 34, 53, 21, 29, 32, 31, 61]\n"
     ]
    }
   ],
   "source": [
    "my_list = [78,92,34,53,21,29,32,31,61]\n",
    "a = my_list.pop(1)\n",
    "print(a)\n",
    "print(my_list)"
   ]
  },
  {
   "cell_type": "markdown",
   "metadata": {},
   "source": [
    "7.  Clearing all items from a list\n",
    "\n",
    "There are two ways to clear all items from a list. \n",
    "\n",
    "- Re-initialize from scratch:\n"
   ]
  },
  {
   "cell_type": "code",
   "execution_count": 16,
   "metadata": {},
   "outputs": [
    {
     "name": "stdout",
     "output_type": "stream",
     "text": [
      "[23, 43, 21, 29, 30, 42]\n",
      "[]\n"
     ]
    }
   ],
   "source": [
    "my_list = [23,43,21,29,30,42]\n",
    "print(my_list)\n",
    "my_list[:] =[]\n",
    "print(my_list)"
   ]
  },
  {
   "cell_type": "markdown",
   "metadata": {},
   "source": [
    "- Use the clear method"
   ]
  },
  {
   "cell_type": "code",
   "execution_count": 17,
   "metadata": {},
   "outputs": [
    {
     "name": "stdout",
     "output_type": "stream",
     "text": [
      "[23, 43, 21, 29, 30, 42]\n",
      "[]\n"
     ]
    }
   ],
   "source": [
    "my_list = [23,43,21,29,30,42]\n",
    "print(my_list)\n",
    "my_list.clear()\n",
    "print(my_list)"
   ]
  },
  {
   "cell_type": "markdown",
   "metadata": {},
   "source": [
    "8. Sort A List:\n",
    "\n",
    "There are two ways to sort a list:\n",
    "\n",
    "\n",
    "- Use 'sort' method: This function sorts the original list .\n",
    "\n"
   ]
  },
  {
   "cell_type": "code",
   "execution_count": 19,
   "metadata": {},
   "outputs": [
    {
     "name": "stdout",
     "output_type": "stream",
     "text": [
      "[21, 23, 29, 30, 42, 43]\n"
     ]
    }
   ],
   "source": [
    "my_list = [23,43,21,29,30,42]\n",
    "my_list.sort()\n",
    "print(my_list)"
   ]
  },
  {
   "cell_type": "code",
   "execution_count": null,
   "metadata": {},
   "outputs": [],
   "source": []
  }
 ],
 "metadata": {
  "kernelspec": {
   "display_name": "Python 3",
   "language": "python",
   "name": "python3"
  },
  "language_info": {
   "codemirror_mode": {
    "name": "ipython",
    "version": 3
   },
   "file_extension": ".py",
   "mimetype": "text/x-python",
   "name": "python",
   "nbconvert_exporter": "python",
   "pygments_lexer": "ipython3",
   "version": "3.7.7"
  }
 },
 "nbformat": 4,
 "nbformat_minor": 4
}
