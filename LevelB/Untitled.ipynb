{
 "cells": [
  {
   "cell_type": "markdown",
   "metadata": {},
   "source": [
    "# Lesson 4: Import methods and Pulse Width Modulation"
   ]
  },
  {
   "cell_type": "markdown",
   "metadata": {},
   "source": [
    " This Jupyter notebook corresponds to Lesson 4 of the Level B of the Introduction to Robotics course. As the name suggests, \n",
    "here we will learn about two programming concepts:\n",
    "\n",
    "    a. Different types of import methods in Python.\n",
    "        \n",
    "    b. Concept and application of Pulse Width Modulation (PWM), which allows the use of GPIO pins of RPi, which are digital pins, to be used as equivalent analog pins.\n",
    "    \n",
    "    "
   ]
  },
  {
   "cell_type": "markdown",
   "metadata": {},
   "source": [
    "As we know, the import method is used to allow the programmer access to functions and methods of other libraries, beside \n",
    "the standard library in Python.\n",
    "\n",
    "Here, we will discuss about three ways  of importing libraries. And we will evaluate each way of import over two parameters namely:\n",
    "\n",
    "a.  What all from the library is imported into the program.\n",
    "\n",
    "b.  How are the imported functions called inside the program.\n",
    "\n",
    "\n",
    "Let us first inspect the simplest way to use the import function, which is:"
   ]
  },
  {
   "cell_type": "code",
   "execution_count": 3,
   "metadata": {},
   "outputs": [],
   "source": [
    "import time"
   ]
  },
  {
   "cell_type": "code",
   "execution_count": 2,
   "metadata": {},
   "outputs": [],
   "source": [
    "import os"
   ]
  },
  {
   "cell_type": "markdown",
   "metadata": {},
   "source": [
    "In the above type of import:\n",
    "\n",
    "a. Everything inside the module is imported.\n",
    "\n",
    "b. The functions inside the library/module are called as:"
   ]
  },
  {
   "cell_type": "code",
   "execution_count": 6,
   "metadata": {},
   "outputs": [],
   "source": [
    "time.sleep(3)"
   ]
  },
  {
   "cell_type": "markdown",
   "metadata": {},
   "source": [
    "This means, that function [sleep] is invoked by calling the module 'time' within which it is contained, followed by the '.' symbol.  "
   ]
  },
  {
   "cell_type": "markdown",
   "metadata": {},
   "source": [
    "The second way to use the import function is by using an alias. This is shown as follows:"
   ]
  },
  {
   "cell_type": "code",
   "execution_count": 7,
   "metadata": {},
   "outputs": [],
   "source": [
    "import time as tm"
   ]
  },
  {
   "cell_type": "markdown",
   "metadata": {},
   "source": [
    "Here, the module 'time' has been renamed for the purpose of this program, as 'tm', which suggests that in this type of import:\n",
    "\n",
    "\n",
    "a.  Everything inside the module is imported.\n",
    "\n",
    "b.  The functions inside the library/module are called as:\n"
   ]
  },
  {
   "cell_type": "code",
   "execution_count": 8,
   "metadata": {},
   "outputs": [],
   "source": [
    "tm.sleep(5)"
   ]
  },
  {
   "cell_type": "markdown",
   "metadata": {},
   "source": [
    "Note that this way of importing allows for 'time' module to be referenced as 'tm'."
   ]
  },
  {
   "cell_type": "markdown",
   "metadata": {},
   "source": [
    "The third and the last way of importing modules is given as:"
   ]
  },
  {
   "cell_type": "code",
   "execution_count": 9,
   "metadata": {},
   "outputs": [],
   "source": [
    "from time import sleep"
   ]
  },
  {
   "cell_type": "markdown",
   "metadata": {},
   "source": [
    "In the context of our discussion, the above method of using the 'import' function  means:\n",
    "\n",
    "a.  Only the 'sleep' function inside the 'time' module is imported.\n",
    "\n",
    "b.  The function 'sleep' inside the library/module is called directly as:\n"
   ]
  },
  {
   "cell_type": "code",
   "execution_count": 10,
   "metadata": {},
   "outputs": [],
   "source": [
    "sleep(10)"
   ]
  },
  {
   "cell_type": "markdown",
   "metadata": {},
   "source": [
    "This is to say that we do not need to refer to time module to call sleep function."
   ]
  },
  {
   "cell_type": "markdown",
   "metadata": {},
   "source": [
    "This (3rd) way to use the 'import' function, can also be used in a broader way as:"
   ]
  },
  {
   "cell_type": "code",
   "execution_count": null,
   "metadata": {},
   "outputs": [],
   "source": [
    "from time import *"
   ]
  },
  {
   "cell_type": "markdown",
   "metadata": {},
   "source": [
    "Again, when evaluated against our paradigm for evaluating ways to use 'import', we understand:\n",
    "\n",
    "a.  Everything in the 'time' module is imported.\n",
    "\n",
    "b. We can use the methods of 'time' module directly, as in:"
   ]
  },
  {
   "cell_type": "code",
   "execution_count": 11,
   "metadata": {},
   "outputs": [],
   "source": [
    "sleep(10)"
   ]
  },
  {
   "cell_type": "markdown",
   "metadata": {},
   "source": [
    "This means that \"best of both worlds\" are combined. We are able to invoke the functions directly, as well as all the functions become available. However, on the flip side, we see that it is difficult to distinguish between such functions (which are called from other modules using import) and the default/native functions of Python."
   ]
  },
  {
   "cell_type": "code",
   "execution_count": null,
   "metadata": {},
   "outputs": [],
   "source": []
  }
 ],
 "metadata": {
  "kernelspec": {
   "display_name": "Python 3",
   "language": "python",
   "name": "python3"
  },
  "language_info": {
   "codemirror_mode": {
    "name": "ipython",
    "version": 3
   },
   "file_extension": ".py",
   "mimetype": "text/x-python",
   "name": "python",
   "nbconvert_exporter": "python",
   "pygments_lexer": "ipython3",
   "version": "3.7.7"
  }
 },
 "nbformat": 4,
 "nbformat_minor": 4
}
