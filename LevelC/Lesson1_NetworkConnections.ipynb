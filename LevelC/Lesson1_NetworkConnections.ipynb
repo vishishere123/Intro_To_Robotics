{
 "cells": [
  {
   "cell_type": "markdown",
   "metadata": {},
   "source": [
    "# What is a Network?\n",
    "\n",
    "A group of devices communicating with each other form a network. The network might be a local area network (LAN) or a Wide Area Netwokr (WAN).\n",
    "\n",
    "## LAN:\n",
    "\n",
    "A local area network (LAN) consists of computers connected together among themselves, without any connection to the outside.\n",
    "\n",
    "To form a LAN, you need two things:\n",
    "\n",
    "1. Computers forming the network which have same IP addresses such as the network portion of the IP address are the same.\n",
    "\n",
    "2. A Router.\n",
    "\n",
    "### IP Address:\n",
    "\n",
    "The IP Address is addresss (a number) assigned to the computer on a network. The IP address is assigned by the router. There are right now two (2) ways to write IP addresses , IPv4 and IPv6.\n",
    "\n",
    "An IPv4 address contains 4 numbers seperated among themselves by 3 decimals. Each of the numbers can vary between 0 and 255. Out of those 4 numbers, how many are assigned to indentifying the network (while the remaining are used to identifying the computer itself) is determined by its subnet mask.\n",
    "\n",
    "1. Subnet mask = 255.255.0.0 \n",
    "This implies that  2 numbers (out of 4) are used for identifying the network, whilst 2 are used for identifying the computer. \n",
    "\n",
    "2. Subnet mask = 255.0.0.0\n",
    "This implies that 1 number (out of 4) are used for identifying the network, whilst 3 are used for identifying the computer.\n",
    "\n",
    "3. Subnet mask = 255.255.255.0 \n",
    "This implies that 3 numbers (out of 4) are used for identifying the network, whilst 1 is used for identifying the computer."
   ]
  },
  {
   "cell_type": "markdown",
   "metadata": {},
   "source": [
    "### Note \n",
    "\n",
    "1. For the computers to be connected to the same network, they must have the portion of the IP address denoting the network to be same (and also the same subnet mask, obviously).\n",
    "\n",
    "2. The more numbers are devoted to network portion of IP address, the lesser is the number of distinct devices you may connect to the network.\n"
   ]
  },
  {
   "cell_type": "markdown",
   "metadata": {},
   "source": [
    "### Reserved IP Address:\n",
    "\n",
    "The authorities which manage the IP address system have reserved certain IP addresses as such:\n",
    "\n",
    "127.0.0.1 Have been reserved for localhost (home computer) . It is for loopback services.\n",
    "\n",
    "localhost is the hostname for the home computer. For example if we give the comman \"ping localhost\", then the home computer on which the command is generated itself will be pinged.\n",
    "\n",
    "Similarly, if we have a website running on the home computer, then opening the web browser and writing http://localhost will start the website.\n",
    "\n",
    "\n",
    "The OS resolves the term 'localhost' to the IP address '127.0.0.1' which is the IP address for loopback (or home computer)."
   ]
  },
  {
   "cell_type": "code",
   "execution_count": null,
   "metadata": {},
   "outputs": [],
   "source": []
  }
 ],
 "metadata": {
  "kernelspec": {
   "display_name": "Python 3",
   "language": "python",
   "name": "python3"
  },
  "language_info": {
   "codemirror_mode": {
    "name": "ipython",
    "version": 3
   },
   "file_extension": ".py",
   "mimetype": "text/x-python",
   "name": "python",
   "nbconvert_exporter": "python",
   "pygments_lexer": "ipython3",
   "version": "3.7.7"
  }
 },
 "nbformat": 4,
 "nbformat_minor": 4
}
